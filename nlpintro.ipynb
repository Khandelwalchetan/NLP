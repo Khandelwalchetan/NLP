{
 "cells": [
  {
   "cell_type": "code",
   "execution_count": 1,
   "metadata": {},
   "outputs": [
    {
     "name": "stderr",
     "output_type": "stream",
     "text": [
      "[nltk_data] Downloading package stopwords to\n",
      "[nltk_data]     C:\\Users\\Chetan\\AppData\\Roaming\\nltk_data...\n",
      "[nltk_data]   Unzipping corpora\\stopwords.zip.\n"
     ]
    },
    {
     "name": "stdout",
     "output_type": "stream",
     "text": [
      "Accuracy: 0.73\n"
     ]
    }
   ],
   "source": [
    "#Natural language processing\n",
    "import numpy as np\n",
    "import pandas as pd\n",
    "\n",
    "\n",
    "#reading dataframe\n",
    "dataset=pd.read_csv(\"Restaurant_Reviews.tsv\",delimiter=\"\\t\",quoting=3)\n",
    "#quoting=3 to avoid double commas\n",
    "\n",
    "dataset.head()\n",
    "\n",
    "\n",
    "#cleaning the text\n",
    "#first we remove the punchuations and exlamation marks\n",
    "import re\n",
    "import nltk\n",
    "nltk.download(\"stopwords\")\n",
    "from nltk.corpus import stopwords\n",
    "from nltk.stem.porter import PorterStemmer\n",
    "corpus=[]\n",
    "for i in range(0,1000):\n",
    "    review=re.sub('[^a-zA-Z]',' ',dataset['Review'][i])\n",
    "\n",
    "\n",
    "    #converting into lower case\n",
    "    review=review.lower()\n",
    "\n",
    "    #converting into list\n",
    "    review=review.split()\n",
    "\n",
    "    #it converts the word into their root\n",
    "    ps=PorterStemmer()\n",
    "\n",
    "\n",
    "    #now to remove unneccessary work like \"this that\"\n",
    "    #set is using to make process fast\n",
    "    review=[ps.stem(word) for word in review if not word in set(stopwords.words('english'))]\n",
    "    review=' '.join(review)\n",
    "    corpus.append(review)\n",
    "\n",
    "# df=pd.DataFrame(corpus)\n",
    "# df.head()\n",
    "\n",
    "\n",
    "#creating a bag of words model\n",
    "from sklearn.feature_extraction.text import CountVectorizer\n",
    "#max-features limits the words\n",
    "cv=CountVectorizer(max_features=1500)\n",
    "x=cv.fit_transform(corpus).toarray()\n",
    "#print(x.shape)\n",
    "y=dataset.iloc[:,1].values\n",
    "#print(y)\n",
    "\n",
    "\n",
    "#splitting the dataset into training and testing\n",
    "from sklearn.model_selection import train_test_split\n",
    "x_train,x_test,y_train,y_test=train_test_split(x,y,test_size=0.20,random_state=0)\n",
    "\n",
    "\n",
    "#Feature scaling\n",
    "# from sklearn.preprocessing import StandardScaler\n",
    "# sc=StandardScaler()\n",
    "# x_train=sc.fit_transform(x_train)\n",
    "# x_test=sc.transform(x_test)\n",
    "\n",
    "\n",
    "#creating our model\n",
    "from sklearn.naive_bayes import GaussianNB\n",
    "model=GaussianNB()\n",
    "model.fit(x_train,y_train)\n",
    "\n",
    "#predictions\n",
    "y_pred=model.predict(x_test)\n",
    "# print(y_pred)\n",
    "# print(y_test)\n",
    "\n",
    "#Import scikit-learn metrics module for accuracy calculation\n",
    "from sklearn import metrics\n",
    "\n",
    "# Model Accuracy, how often is the classifier correct?\n",
    "print(\"Accuracy:\",metrics.accuracy_score(y_test, y_pred))"
   ]
  },
  {
   "cell_type": "code",
   "execution_count": null,
   "metadata": {},
   "outputs": [],
   "source": []
  },
  {
   "cell_type": "code",
   "execution_count": null,
   "metadata": {},
   "outputs": [],
   "source": []
  }
 ],
 "metadata": {
  "kernelspec": {
   "display_name": "Python 3",
   "language": "python",
   "name": "python3"
  },
  "language_info": {
   "codemirror_mode": {
    "name": "ipython",
    "version": 3
   },
   "file_extension": ".py",
   "mimetype": "text/x-python",
   "name": "python",
   "nbconvert_exporter": "python",
   "pygments_lexer": "ipython3",
   "version": "3.7.1"
  }
 },
 "nbformat": 4,
 "nbformat_minor": 2
}
